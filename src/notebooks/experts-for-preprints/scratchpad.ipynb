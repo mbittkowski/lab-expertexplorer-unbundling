{
 "cells": [
  {
   "cell_type": "markdown",
   "metadata": {},
   "source": [
    "# Finde Expert:innen, um Preprint einschätzen zu lassen"
   ]
  },
  {
   "cell_type": "code",
   "execution_count": 1,
   "metadata": {},
   "outputs": [],
   "source": [
    "url = \"https://www.medrxiv.org/content/10.1101/2024.12.30.24319800v1\"\n",
    "doi = \"https://doi.org/10.1101/2024.12.30.24319800\"\n",
    "authors_str = \"Friederike Hoheisel, Kathrin Maria Fleischer, Kerstin Rubarth, Nuno Sepúlveda, Sandra Bauer, Frank Konietschke, Claudia Kedor, Annika Elisa Stein, Kirsten Wittke, Martina Seifert, Judith Bellmann-Strobl, Josef Mautner, Uta Behrends, Carmen Scheibenbogen, Franziska Sotzny\"\n",
    "title = \"Autoantibodies to Arginine-rich Sequences Mimicking Epstein-Barr Virus in Post-COVID and Myalgic Encephalomyelitis/Chronic Fatigue Syndrome\"\n",
    "abstract = \"\"\"Background Epstein-Barr virus (EBV) infection is a known trigger and risk factor for myalgic encephalomyelitis/chronic fatigue syndrome (ME/CFS) and post-COVID syndrome (PCS). In previous studies, we found enhanced IgG reactivity to EBV EBNA4 and EBNA6 arginine-rich sequences in postinfectious ME/CFS (piME/CFS).\n",
    "\n",
    "Objective This study aims to investigate IgG responses to arginine-rich (poly-R) EBNA4 and EBNA6 sequences and homologous human sequences in PCS and ME/CFS.\n",
    "\n",
    "Methods The IgG responses against poly-R EBNA4 and EBNA6 and corresponding homologous human 15-mer peptides and respective full-length proteins were analyzed using a cytometric bead array (CBA) and a multiplex dot-blot assay. Sera of 45 PCS patients diagnosed according to WHO criteria, with 26 patients fulfilling the Canadian Consensus criteria for ME/CFS (pcME/CFS), 36 patients with non-COVID post-infectious ME/CFS (piME/CFS), and 34 healthy controls (HC) were investigated.\n",
    "\n",
    "Results Autoantibodies to poly-R peptide sequences of the neuronal antigen SRRM3, the ion channel SLC24A3, TGF-β signaling regulator TSPLY2, angiogenic regulator TSPYL5, as well as to full-length α-adrenergic receptor (ADRA) proteins were more frequent in patients. Several autoantibodies were positively associated with key symptoms of autonomic dysfunction, fatigue, cognition, and pain.\n",
    "\n",
    "Conclusion Collectively, we identified autoantibodies with new antigen specificities with a potential role in PCS and ME/CFS.\n",
    "\n",
    "Clinical Implication These finding should prompt further studies on the function of these autoantibodies, their exploitation for diagnostic use, and of drugs targeting autoantibodies.\n",
    "\n",
    "Capsule summary Our study reveals elevated autoantibodies to EBV-related poly-R sequences and their human homologues in PCS and ME/CFS patients associated with symptom severity, suggesting a potential role in disease pathogenesis.\"\"\""
   ]
  },
  {
   "cell_type": "markdown",
   "metadata": {},
   "source": [
    "**Wege zum Ziel**\n",
    "\n",
    "- Semi-automatischer Worfklow: Automatisierung großer Teile der Suche + Interventionsmöglichkeiten durch User\n",
    "    - Workflow braucht Zeit - keine _search experience_ wie im EE2, eher Rechercheassistent, der durch massive Parallelisierung und Automatisierung Zeit spart\n",
    "- Studien => Kandidaten\n",
    "    - Bei Preprints sind nach X Tagen die Daten (über Crossref) in OpenAlex über die DOI abfragbar ([Beispiel](https://api.openalex.org/works/https://doi.org/10.1101/2024.12.30.24319800)), related Papers, Autor:innen aus Deutschland finden; oder über geteilte Keywords, Topics, etc.\n",
    "    - Suche nach Preprint in Semantic Scholar => Paper [Recommendations API](https://api.semanticscholar.org/api-docs/recommendations), über empfohlene Paper Autor:innen aus Deutschland finden\n",
    "    - Aus Titel + Abstract über LLM Queries erzeugen, damit in Datenbanken wie PubMed, OpenAlex, etc. nach möglichst aktuellen ähnlichen Studien suchen; von LLM einschätzen lassen, wie ähnlich die Inhalte der gefundenen Studien zu den Inhalten der zu beurteilenden Studie sind; aus ähnlichen Studien Autor:innen aus Deutschland extrahieren\n",
    "- Kandidaten => Mehr Kandidaten\n",
    "    - Ko-Autoren-/Zitations-Netzwerke erweitern, Autor:inenn aus Deutschland extrahieren\n",
    "- Kandidaten => Vorschläge\n",
    "    - Matching auf von Autor:innen auf OpenAlex / Semantic Scholar / etc. Entitäten (Informationen aus vorhergehenden Schritten mitnehmen, falls vorhanden)\n",
    "        - Abgleich von Themen\n",
    "        - Abgleich von Themen der letzten N Publikationen\n",
    "        - Einbeziehung von Metriken\n",
    "        - Einbeziehung von Aktualität der letzten Veröffentlichungen"
   ]
  },
  {
   "cell_type": "markdown",
   "metadata": {},
   "source": []
  }
 ],
 "metadata": {
  "kernelspec": {
   "display_name": "Python 3",
   "language": "python",
   "name": "python3"
  },
  "language_info": {
   "codemirror_mode": {
    "name": "ipython",
    "version": 3
   },
   "file_extension": ".py",
   "mimetype": "text/x-python",
   "name": "python",
   "nbconvert_exporter": "python",
   "pygments_lexer": "ipython3",
   "version": "3.11.11"
  }
 },
 "nbformat": 4,
 "nbformat_minor": 2
}
